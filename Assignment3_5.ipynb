{
  "nbformat": 4,
  "nbformat_minor": 0,
  "metadata": {
    "colab": {
      "provenance": [],
      "authorship_tag": "ABX9TyM5tpp1fUuIui9cYGZWG/w/",
      "include_colab_link": true
    },
    "kernelspec": {
      "name": "python3",
      "display_name": "Python 3"
    },
    "language_info": {
      "name": "python"
    }
  },
  "cells": [
    {
      "cell_type": "markdown",
      "metadata": {
        "id": "view-in-github",
        "colab_type": "text"
      },
      "source": [
        "<a href=\"https://colab.research.google.com/github/ruthujapatil/ruthujapatil/blob/main/Assignment3_5.ipynb\" target=\"_parent\"><img src=\"https://colab.research.google.com/assets/colab-badge.svg\" alt=\"Open In Colab\"/></a>"
      ]
    },
    {
      "cell_type": "code",
      "execution_count": null,
      "metadata": {
        "id": "inZTrzVUU77W"
      },
      "outputs": [],
      "source": [
        "import numpy as np\n",
        "from scipy import stats\n",
        "from scipy.stats import norm"
      ]
    },
    {
      "cell_type": "code",
      "source": [
        "#Mean = Mean1 + Mean2\n",
        "Mean=5+7\n",
        "print('Mean profit is Rs',Mean*45,'millions')"
      ],
      "metadata": {
        "colab": {
          "base_uri": "https://localhost:8080/"
        },
        "id": "h0PkLHbPVT5Z",
        "outputId": "89a859eb-1484-45ea-e372-c9aaad77030c"
      },
      "execution_count": null,
      "outputs": [
        {
          "output_type": "stream",
          "name": "stdout",
          "text": [
            "Mean profit is Rs 540 millions\n"
          ]
        }
      ]
    },
    {
      "cell_type": "code",
      "source": [
        "#SD^2 = SD1^2 + SD2^2\n",
        "SD = np.sqrt((9)+(16))\n",
        "print('Standard Deviation is Rs',SD*45,'millions')"
      ],
      "metadata": {
        "colab": {
          "base_uri": "https://localhost:8080/"
        },
        "id": "5xqNlgUPV01I",
        "outputId": "61fce2f9-1632-4eca-9944-83610cb141a5"
      },
      "execution_count": null,
      "outputs": [
        {
          "output_type": "stream",
          "name": "stdout",
          "text": [
            "Standard Deviation is Rs 225.0 millions\n"
          ]
        }
      ]
    },
    {
      "cell_type": "code",
      "source": [
        "#A.Specify a Rupee range (centered on the mean) such that it contains 95% probability for the annual profit of the company\n",
        "stats.norm.interval(0.95,540,225)"
      ],
      "metadata": {
        "colab": {
          "base_uri": "https://localhost:8080/"
        },
        "id": "o_nWKcqUWQaZ",
        "outputId": "46d5896e-33e0-49ec-f121-b117caeebb0b"
      },
      "execution_count": null,
      "outputs": [
        {
          "output_type": "execute_result",
          "data": {
            "text/plain": [
              "(99.00810347848784, 980.9918965215122)"
            ]
          },
          "metadata": {},
          "execution_count": 5
        }
      ]
    },
    {
      "cell_type": "code",
      "source": [
        "#B.Specify the 5th percentile of profit (in Rupees) for the company\n",
        "X=540+(-1.645)*(225)    # X=Mean+(z score of 5th percentile)*Standard Deviation\n",
        "X"
      ],
      "metadata": {
        "colab": {
          "base_uri": "https://localhost:8080/"
        },
        "id": "4Wjl6sdYWnz7",
        "outputId": "bed054f0-6c5d-4adc-a518-dcef53fff2b9"
      },
      "execution_count": null,
      "outputs": [
        {
          "output_type": "execute_result",
          "data": {
            "text/plain": [
              "169.875"
            ]
          },
          "metadata": {},
          "execution_count": 9
        }
      ]
    },
    {
      "cell_type": "code",
      "source": [
        "#C.Which of the two divisions has a larger probability of making a loss in a given year\n",
        "#Probability of division 1 making loss P(X<0)\n",
        "stats.norm.cdf(0,5,3)"
      ],
      "metadata": {
        "colab": {
          "base_uri": "https://localhost:8080/"
        },
        "id": "MEycSh6CXLoM",
        "outputId": "1b418d6c-192d-4f5e-bb21-19bbb3633cde"
      },
      "execution_count": null,
      "outputs": [
        {
          "output_type": "execute_result",
          "data": {
            "text/plain": [
              "0.0477903522728147"
            ]
          },
          "metadata": {},
          "execution_count": 11
        }
      ]
    },
    {
      "cell_type": "code",
      "source": [
        "#Probability of division 2 making loss P(X<0)\n",
        "stats.norm.cdf(0,7,4)"
      ],
      "metadata": {
        "colab": {
          "base_uri": "https://localhost:8080/"
        },
        "id": "KWg748UQZztO",
        "outputId": "e038c107-fabb-4587-fd2f-b46128aec1b8"
      },
      "execution_count": null,
      "outputs": [
        {
          "output_type": "execute_result",
          "data": {
            "text/plain": [
              "0.040059156863817086"
            ]
          },
          "metadata": {},
          "execution_count": 12
        }
      ]
    },
    {
      "cell_type": "code",
      "source": [],
      "metadata": {
        "id": "XROPNECzZ6ND"
      },
      "execution_count": null,
      "outputs": []
    }
  ]
}